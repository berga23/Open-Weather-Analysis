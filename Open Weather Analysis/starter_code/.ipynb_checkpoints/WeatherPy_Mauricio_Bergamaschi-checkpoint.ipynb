{
 "cells": [
  {
   "cell_type": "markdown",
   "metadata": {},
   "source": [
    "# WeatherPy\n",
    "----\n",
    "\n",
    "### Analysis\n",
    "* In regards to max temperature in cities, it is possible to infer that it gets higher as it moves torwards latitude 0, or Ecuador line. We can also see that south hemisphere tends ot be warmer than northe hemisphere when comparing its oposite simetric latitudes (example: a North citi at latitude 70 vs. a latitude -70 which would be a southern hemisphere city).\n",
    "* There seems to have no correlation between city latitudes and humidity. This means humidity might not be a consequence of where the city is located in the globe in terms of latitude, but perhaps how far the city is from river, sea or ocean for instance. \n",
    "* There seems to have no correlation between city latitudes and wind speed. This means the city\"s latitude is probably not a good factor to understand its wind speed. Maybe how far from enclosed mountains or wind currents could be possible drivers to understand a city\"s wind speed. \n",
    "\n",
    "---\n",
    "\n",
    "#### Note\n",
    "* Instructions have been included for each segment. You do not have to follow them exactly, but they are included to help you think through the steps."
   ]
  },
  {
   "cell_type": "code",
   "execution_count": 65,
   "metadata": {
    "scrolled": true
   },
   "outputs": [],
   "source": [
    "# Dependencies and Setup\n",
    "import matplotlib.pyplot as plt\n",
    "import pandas as pd\n",
    "import numpy as np\n",
    "import requests\n",
    "import time\n",
    "import datetime\n",
    "\n",
    "# Import my API key\n",
    "api_key = \"0278588c008cce622dfc6045cb326ae9\"\n",
    "\n",
    "# Incorporated citipy to determine city based on latitude and longitude\n",
    "from citipy import citipy\n",
    "\n",
    "# Output File (CSV)\n",
    "output_data_file = \"output_data/cities.csv\"\n",
    "\n",
    "# Range of latitudes and longitudes\n",
    "lat_range = (-90, 90)\n",
    "lng_range = (-180, 180)\n",
    "\n"
   ]
  },
  {
   "cell_type": "markdown",
   "metadata": {},
   "source": [
    "## Generate Cities List"
   ]
  },
  {
   "cell_type": "code",
   "execution_count": 66,
   "metadata": {},
   "outputs": [
    {
     "name": "stdout",
     "output_type": "stream",
     "text": [
      "602\n"
     ]
    }
   ],
   "source": [
    "# List for holding lat_lngs and cities\n",
    "lat_lngs = []\n",
    "cities = []\n",
    "\n",
    "# Create a set of random lat and lng combinations\n",
    "lats = np.random.uniform(low=-90.000, high=90.000, size=1500)\n",
    "lngs = np.random.uniform(low=-180.000, high=180.000, size=1500)\n",
    "lat_lngs = zip(lats, lngs)\n",
    "\n",
    "# Identify nearest city for each lat, lng combination\n",
    "for lat_lng in lat_lngs:\n",
    "    city = citipy.nearest_city(lat_lng[0], lat_lng[1]).city_name\n",
    "    \n",
    "    # If the city is unique, then add it to a our cities list\n",
    "    if city not in cities:\n",
    "        cities.append(city)\n",
    "\n",
    "# Print the city count to confirm sufficient count\n",
    "print(len(cities))"
   ]
  },
  {
   "cell_type": "markdown",
   "metadata": {},
   "source": [
    "### Perform API Calls\n",
    "* Perform a weather check on each city using a series of successive API calls.\n",
    "* Include a print log of each city as it'sbeing processed (with the city number and city name).\n"
   ]
  },
  {
   "cell_type": "code",
   "execution_count": 67,
   "metadata": {},
   "outputs": [
    {
     "data": {
      "text/html": [
       "<div>\n",
       "<style scoped>\n",
       "    .dataframe tbody tr th:only-of-type {\n",
       "        vertical-align: middle;\n",
       "    }\n",
       "\n",
       "    .dataframe tbody tr th {\n",
       "        vertical-align: top;\n",
       "    }\n",
       "\n",
       "    .dataframe thead th {\n",
       "        text-align: right;\n",
       "    }\n",
       "</style>\n",
       "<table border=\"1\" class=\"dataframe\">\n",
       "  <thead>\n",
       "    <tr style=\"text-align: right;\">\n",
       "      <th></th>\n",
       "      <th>City</th>\n",
       "    </tr>\n",
       "  </thead>\n",
       "  <tbody>\n",
       "    <tr>\n",
       "      <th>0</th>\n",
       "      <td>plettenberg bay</td>\n",
       "    </tr>\n",
       "    <tr>\n",
       "      <th>1</th>\n",
       "      <td>pangnirtung</td>\n",
       "    </tr>\n",
       "    <tr>\n",
       "      <th>2</th>\n",
       "      <td>hilo</td>\n",
       "    </tr>\n",
       "    <tr>\n",
       "      <th>3</th>\n",
       "      <td>hermanus</td>\n",
       "    </tr>\n",
       "    <tr>\n",
       "      <th>4</th>\n",
       "      <td>jacareacanga</td>\n",
       "    </tr>\n",
       "  </tbody>\n",
       "</table>\n",
       "</div>"
      ],
      "text/plain": [
       "              City\n",
       "0  plettenberg bay\n",
       "1      pangnirtung\n",
       "2             hilo\n",
       "3         hermanus\n",
       "4     jacareacanga"
      ]
     },
     "execution_count": 67,
     "metadata": {},
     "output_type": "execute_result"
    }
   ],
   "source": [
    "# Transforming list to df\n",
    "complete_df = pd.DataFrame(np.array(cities))\n",
    "complete_df = complete_df.rename(columns={0: \"City\"})\n",
    "complete_df.head()"
   ]
  },
  {
   "cell_type": "code",
   "execution_count": 68,
   "metadata": {
    "scrolled": true
   },
   "outputs": [
    {
     "data": {
      "text/html": [
       "<div>\n",
       "<style scoped>\n",
       "    .dataframe tbody tr th:only-of-type {\n",
       "        vertical-align: middle;\n",
       "    }\n",
       "\n",
       "    .dataframe tbody tr th {\n",
       "        vertical-align: top;\n",
       "    }\n",
       "\n",
       "    .dataframe thead th {\n",
       "        text-align: right;\n",
       "    }\n",
       "</style>\n",
       "<table border=\"1\" class=\"dataframe\">\n",
       "  <thead>\n",
       "    <tr style=\"text-align: right;\">\n",
       "      <th></th>\n",
       "      <th>City</th>\n",
       "      <th>Cloudiness</th>\n",
       "      <th>Country</th>\n",
       "      <th>Date</th>\n",
       "      <th>Humidity</th>\n",
       "      <th>Lat</th>\n",
       "      <th>Lng</th>\n",
       "      <th>Max Temp</th>\n",
       "      <th>Wind Speed</th>\n",
       "      <th>Temperature</th>\n",
       "    </tr>\n",
       "  </thead>\n",
       "  <tbody>\n",
       "    <tr>\n",
       "      <th>0</th>\n",
       "      <td>plettenberg bay</td>\n",
       "      <td></td>\n",
       "      <td></td>\n",
       "      <td></td>\n",
       "      <td></td>\n",
       "      <td></td>\n",
       "      <td></td>\n",
       "      <td></td>\n",
       "      <td></td>\n",
       "      <td></td>\n",
       "    </tr>\n",
       "    <tr>\n",
       "      <th>1</th>\n",
       "      <td>pangnirtung</td>\n",
       "      <td></td>\n",
       "      <td></td>\n",
       "      <td></td>\n",
       "      <td></td>\n",
       "      <td></td>\n",
       "      <td></td>\n",
       "      <td></td>\n",
       "      <td></td>\n",
       "      <td></td>\n",
       "    </tr>\n",
       "    <tr>\n",
       "      <th>2</th>\n",
       "      <td>hilo</td>\n",
       "      <td></td>\n",
       "      <td></td>\n",
       "      <td></td>\n",
       "      <td></td>\n",
       "      <td></td>\n",
       "      <td></td>\n",
       "      <td></td>\n",
       "      <td></td>\n",
       "      <td></td>\n",
       "    </tr>\n",
       "    <tr>\n",
       "      <th>3</th>\n",
       "      <td>hermanus</td>\n",
       "      <td></td>\n",
       "      <td></td>\n",
       "      <td></td>\n",
       "      <td></td>\n",
       "      <td></td>\n",
       "      <td></td>\n",
       "      <td></td>\n",
       "      <td></td>\n",
       "      <td></td>\n",
       "    </tr>\n",
       "    <tr>\n",
       "      <th>4</th>\n",
       "      <td>jacareacanga</td>\n",
       "      <td></td>\n",
       "      <td></td>\n",
       "      <td></td>\n",
       "      <td></td>\n",
       "      <td></td>\n",
       "      <td></td>\n",
       "      <td></td>\n",
       "      <td></td>\n",
       "      <td></td>\n",
       "    </tr>\n",
       "  </tbody>\n",
       "</table>\n",
       "</div>"
      ],
      "text/plain": [
       "              City Cloudiness Country Date Humidity Lat Lng Max Temp  \\\n",
       "0  plettenberg bay                                                     \n",
       "1      pangnirtung                                                     \n",
       "2             hilo                                                     \n",
       "3         hermanus                                                     \n",
       "4     jacareacanga                                                     \n",
       "\n",
       "  Wind Speed Temperature  \n",
       "0                         \n",
       "1                         \n",
       "2                         \n",
       "3                         \n",
       "4                         "
      ]
     },
     "execution_count": 68,
     "metadata": {},
     "output_type": "execute_result"
    }
   ],
   "source": [
    "# setting up dataframe to hold information\n",
    "\n",
    "complete_df['Cloudiness'] = \"\"\n",
    "complete_df['Country'] = \"\"\n",
    "complete_df['Date'] = \"\"\n",
    "complete_df['Humidity'] = \"\"\n",
    "complete_df['Lat'] = \"\"\n",
    "complete_df['Lng'] = \"\"\n",
    "complete_df['Max Temp'] = \"\"\n",
    "complete_df['Wind Speed'] = \"\"\n",
    "complete_df['Temperature'] = \"\"\n",
    "\n",
    "\n",
    "complete_df.head()"
   ]
  },
  {
   "cell_type": "code",
   "execution_count": 69,
   "metadata": {},
   "outputs": [
    {
     "name": "stdout",
     "output_type": "stream",
     "text": [
      "city not in openweather\n",
      "city not in openweather\n",
      "city not in openweather\n",
      "city not in openweather\n",
      "city not in openweather\n",
      "city not in openweather\n",
      "city not in openweather\n",
      "city not in openweather\n",
      "city not in openweather\n",
      "city not in openweather\n",
      "city not in openweather\n",
      "city not in openweather\n",
      "city not in openweather\n",
      "city not in openweather\n",
      "city not in openweather\n",
      "city not in openweather\n",
      "city not in openweather\n",
      "city not in openweather\n",
      "city not in openweather\n",
      "city not in openweather\n",
      "city not in openweather\n",
      "city not in openweather\n",
      "city not in openweather\n",
      "city not in openweather\n",
      "city not in openweather\n",
      "city not in openweather\n",
      "city not in openweather\n",
      "city not in openweather\n",
      "city not in openweather\n",
      "city not in openweather\n",
      "city not in openweather\n",
      "city not in openweather\n",
      "city not in openweather\n",
      "city not in openweather\n",
      "city not in openweather\n",
      "city not in openweather\n",
      "city not in openweather\n",
      "city not in openweather\n",
      "city not in openweather\n",
      "city not in openweather\n",
      "city not in openweather\n",
      "city not in openweather\n",
      "city not in openweather\n",
      "city not in openweather\n",
      "city not in openweather\n",
      "city not in openweather\n",
      "city not in openweather\n",
      "city not in openweather\n",
      "city not in openweather\n",
      "city not in openweather\n",
      "city not in openweather\n",
      "city not in openweather\n",
      "city not in openweather\n",
      "city not in openweather\n",
      "city not in openweather\n",
      "city not in openweather\n",
      "city not in openweather\n",
      "city not in openweather\n"
     ]
    }
   ],
   "source": [
    "# Creating backup for API call\n",
    "url = \"http://api.openweathermap.org/data/2.5/weather?\"\n",
    "units = \"metric\"\n",
    "\n",
    "# Complete query URL to be used in the loop\n",
    "query_url = f\"{url}appid={api_key}&units={units}&q={cities}\"\n",
    "\n",
    "\n",
    "# Using iterrows to iterate through pandas dataframe\n",
    "for index, row in complete_df.iterrows():\n",
    "\n",
    "    # get restaurant type from df\n",
    "    cities = row['City']\n",
    "    # assemble url and make API request\n",
    "    query_url = f\"{url}appid={api_key}&units={units}&q={cities}\"\n",
    "    response = requests.get(query_url)\n",
    "    weather_json = response.json()\n",
    "    \n",
    "    # fixing loop to continue ruunning even with missing cities\n",
    "    \n",
    "    try:\n",
    "        \n",
    "        row[\"Cloudiness\"] = weather_json[\"clouds\"][\"all\"]\n",
    "        row[\"Country\"] = weather_json[\"sys\"][\"country\"]\n",
    "        row[\"Humidity\"] = weather_json[\"main\"][\"humidity\"]\n",
    "        row[\"Lat\"] = weather_json[\"coord\"][\"lat\"]\n",
    "        row[\"Lng\"] = weather_json[\"coord\"][\"lon\"]\n",
    "        row[\"Max Temp\"] = weather_json[\"main\"][\"temp_max\"]\n",
    "        row[\"Wind Speed\"] = weather_json[\"wind\"][\"speed\"]\n",
    "        row[\"Temperature\"] = weather_json[\"main\"][\"temp\"]\n",
    "        row[\"Date\"] = str(datetime.datetime.now().date())\n",
    "        \n",
    "    except (KeyError, IndexError):\n",
    "        print(\"city not in openweather\")\n",
    "        \n",
    "        "
   ]
  },
  {
   "cell_type": "code",
   "execution_count": 70,
   "metadata": {},
   "outputs": [
    {
     "data": {
      "text/html": [
       "<div>\n",
       "<style scoped>\n",
       "    .dataframe tbody tr th:only-of-type {\n",
       "        vertical-align: middle;\n",
       "    }\n",
       "\n",
       "    .dataframe tbody tr th {\n",
       "        vertical-align: top;\n",
       "    }\n",
       "\n",
       "    .dataframe thead th {\n",
       "        text-align: right;\n",
       "    }\n",
       "</style>\n",
       "<table border=\"1\" class=\"dataframe\">\n",
       "  <thead>\n",
       "    <tr style=\"text-align: right;\">\n",
       "      <th></th>\n",
       "      <th>City</th>\n",
       "      <th>Cloudiness</th>\n",
       "      <th>Country</th>\n",
       "      <th>Date</th>\n",
       "      <th>Humidity</th>\n",
       "      <th>Lat</th>\n",
       "      <th>Lng</th>\n",
       "      <th>Max Temp</th>\n",
       "      <th>Wind Speed</th>\n",
       "      <th>Temperature</th>\n",
       "    </tr>\n",
       "  </thead>\n",
       "  <tbody>\n",
       "    <tr>\n",
       "      <th>0</th>\n",
       "      <td>plettenberg bay</td>\n",
       "      <td>0</td>\n",
       "      <td>ZA</td>\n",
       "      <td>2018-10-20</td>\n",
       "      <td>100</td>\n",
       "      <td>-34.05</td>\n",
       "      <td>23.37</td>\n",
       "      <td>14.5</td>\n",
       "      <td>8.76</td>\n",
       "      <td>14.5</td>\n",
       "    </tr>\n",
       "    <tr>\n",
       "      <th>1</th>\n",
       "      <td>pangnirtung</td>\n",
       "      <td>32</td>\n",
       "      <td>CA</td>\n",
       "      <td>2018-10-20</td>\n",
       "      <td>100</td>\n",
       "      <td>66.15</td>\n",
       "      <td>-65.72</td>\n",
       "      <td>-8.83</td>\n",
       "      <td>2.11</td>\n",
       "      <td>-8.83</td>\n",
       "    </tr>\n",
       "    <tr>\n",
       "      <th>2</th>\n",
       "      <td>hilo</td>\n",
       "      <td>75</td>\n",
       "      <td>US</td>\n",
       "      <td>2018-10-20</td>\n",
       "      <td>83</td>\n",
       "      <td>19.71</td>\n",
       "      <td>-155.08</td>\n",
       "      <td>24</td>\n",
       "      <td>5.01</td>\n",
       "      <td>20.04</td>\n",
       "    </tr>\n",
       "    <tr>\n",
       "      <th>3</th>\n",
       "      <td>hermanus</td>\n",
       "      <td>20</td>\n",
       "      <td>ZA</td>\n",
       "      <td>2018-10-20</td>\n",
       "      <td>52</td>\n",
       "      <td>-34.42</td>\n",
       "      <td>19.24</td>\n",
       "      <td>13.43</td>\n",
       "      <td>4.86</td>\n",
       "      <td>13.43</td>\n",
       "    </tr>\n",
       "    <tr>\n",
       "      <th>4</th>\n",
       "      <td>jacareacanga</td>\n",
       "      <td>8</td>\n",
       "      <td>BR</td>\n",
       "      <td>2018-10-20</td>\n",
       "      <td>92</td>\n",
       "      <td>-6.22</td>\n",
       "      <td>-57.76</td>\n",
       "      <td>25.35</td>\n",
       "      <td>1.41</td>\n",
       "      <td>25.35</td>\n",
       "    </tr>\n",
       "  </tbody>\n",
       "</table>\n",
       "</div>"
      ],
      "text/plain": [
       "              City Cloudiness Country        Date Humidity    Lat     Lng  \\\n",
       "0  plettenberg bay          0      ZA  2018-10-20      100 -34.05   23.37   \n",
       "1      pangnirtung         32      CA  2018-10-20      100  66.15  -65.72   \n",
       "2             hilo         75      US  2018-10-20       83  19.71 -155.08   \n",
       "3         hermanus         20      ZA  2018-10-20       52 -34.42   19.24   \n",
       "4     jacareacanga          8      BR  2018-10-20       92  -6.22  -57.76   \n",
       "\n",
       "  Max Temp Wind Speed Temperature  \n",
       "0     14.5       8.76        14.5  \n",
       "1    -8.83       2.11       -8.83  \n",
       "2       24       5.01       20.04  \n",
       "3    13.43       4.86       13.43  \n",
       "4    25.35       1.41       25.35  "
      ]
     },
     "execution_count": 70,
     "metadata": {},
     "output_type": "execute_result"
    }
   ],
   "source": [
    "complete_df.head()"
   ]
  },
  {
   "cell_type": "markdown",
   "metadata": {},
   "source": [
    "### Convert Raw Data to DataFrame\n",
    "* Export the city data into a .csv.\n",
    "* Display the DataFrame"
   ]
  },
  {
   "cell_type": "code",
   "execution_count": 71,
   "metadata": {},
   "outputs": [],
   "source": [
    "# Exporting file in CSV format\n",
    "\n",
    "complete_df.to_csv(\"../Resources/weather_cities.csv\")"
   ]
  },
  {
   "cell_type": "code",
   "execution_count": 72,
   "metadata": {},
   "outputs": [
    {
     "data": {
      "text/html": [
       "<div>\n",
       "<style scoped>\n",
       "    .dataframe tbody tr th:only-of-type {\n",
       "        vertical-align: middle;\n",
       "    }\n",
       "\n",
       "    .dataframe tbody tr th {\n",
       "        vertical-align: top;\n",
       "    }\n",
       "\n",
       "    .dataframe thead th {\n",
       "        text-align: right;\n",
       "    }\n",
       "</style>\n",
       "<table border=\"1\" class=\"dataframe\">\n",
       "  <thead>\n",
       "    <tr style=\"text-align: right;\">\n",
       "      <th></th>\n",
       "      <th>Unnamed: 0</th>\n",
       "      <th>City</th>\n",
       "      <th>Cloudiness</th>\n",
       "      <th>Country</th>\n",
       "      <th>Date</th>\n",
       "      <th>Humidity</th>\n",
       "      <th>Lat</th>\n",
       "      <th>Lng</th>\n",
       "      <th>Max Temp</th>\n",
       "      <th>Wind Speed</th>\n",
       "      <th>Temperature</th>\n",
       "    </tr>\n",
       "  </thead>\n",
       "  <tbody>\n",
       "    <tr>\n",
       "      <th>0</th>\n",
       "      <td>0</td>\n",
       "      <td>plettenberg bay</td>\n",
       "      <td>0.0</td>\n",
       "      <td>ZA</td>\n",
       "      <td>2018-10-20</td>\n",
       "      <td>100.0</td>\n",
       "      <td>-34.05</td>\n",
       "      <td>23.37</td>\n",
       "      <td>14.50</td>\n",
       "      <td>8.76</td>\n",
       "      <td>14.50</td>\n",
       "    </tr>\n",
       "    <tr>\n",
       "      <th>1</th>\n",
       "      <td>1</td>\n",
       "      <td>pangnirtung</td>\n",
       "      <td>32.0</td>\n",
       "      <td>CA</td>\n",
       "      <td>2018-10-20</td>\n",
       "      <td>100.0</td>\n",
       "      <td>66.15</td>\n",
       "      <td>-65.72</td>\n",
       "      <td>-8.83</td>\n",
       "      <td>2.11</td>\n",
       "      <td>-8.83</td>\n",
       "    </tr>\n",
       "    <tr>\n",
       "      <th>2</th>\n",
       "      <td>2</td>\n",
       "      <td>hilo</td>\n",
       "      <td>75.0</td>\n",
       "      <td>US</td>\n",
       "      <td>2018-10-20</td>\n",
       "      <td>83.0</td>\n",
       "      <td>19.71</td>\n",
       "      <td>-155.08</td>\n",
       "      <td>24.00</td>\n",
       "      <td>5.01</td>\n",
       "      <td>20.04</td>\n",
       "    </tr>\n",
       "    <tr>\n",
       "      <th>3</th>\n",
       "      <td>3</td>\n",
       "      <td>hermanus</td>\n",
       "      <td>20.0</td>\n",
       "      <td>ZA</td>\n",
       "      <td>2018-10-20</td>\n",
       "      <td>52.0</td>\n",
       "      <td>-34.42</td>\n",
       "      <td>19.24</td>\n",
       "      <td>13.43</td>\n",
       "      <td>4.86</td>\n",
       "      <td>13.43</td>\n",
       "    </tr>\n",
       "    <tr>\n",
       "      <th>4</th>\n",
       "      <td>4</td>\n",
       "      <td>jacareacanga</td>\n",
       "      <td>8.0</td>\n",
       "      <td>BR</td>\n",
       "      <td>2018-10-20</td>\n",
       "      <td>92.0</td>\n",
       "      <td>-6.22</td>\n",
       "      <td>-57.76</td>\n",
       "      <td>25.35</td>\n",
       "      <td>1.41</td>\n",
       "      <td>25.35</td>\n",
       "    </tr>\n",
       "  </tbody>\n",
       "</table>\n",
       "</div>"
      ],
      "text/plain": [
       "   Unnamed: 0             City  Cloudiness Country        Date  Humidity  \\\n",
       "0           0  plettenberg bay         0.0      ZA  2018-10-20     100.0   \n",
       "1           1      pangnirtung        32.0      CA  2018-10-20     100.0   \n",
       "2           2             hilo        75.0      US  2018-10-20      83.0   \n",
       "3           3         hermanus        20.0      ZA  2018-10-20      52.0   \n",
       "4           4     jacareacanga         8.0      BR  2018-10-20      92.0   \n",
       "\n",
       "     Lat     Lng  Max Temp  Wind Speed  Temperature  \n",
       "0 -34.05   23.37     14.50        8.76        14.50  \n",
       "1  66.15  -65.72     -8.83        2.11        -8.83  \n",
       "2  19.71 -155.08     24.00        5.01        20.04  \n",
       "3 -34.42   19.24     13.43        4.86        13.43  \n",
       "4  -6.22  -57.76     25.35        1.41        25.35  "
      ]
     },
     "execution_count": 72,
     "metadata": {},
     "output_type": "execute_result"
    }
   ],
   "source": [
    "# Calling data frame through csv  \n",
    "complete_df = pd.read_csv(\"../Resources/weather_cities.csv\")\n",
    "complete_df.head()"
   ]
  },
  {
   "cell_type": "markdown",
   "metadata": {},
   "source": [
    "### Plotting the Data\n",
    "* Use proper labeling of the plots using plot titles (including date of analysis) and axes labels.\n",
    "* Save the plotted figures as .pngs."
   ]
  },
  {
   "cell_type": "markdown",
   "metadata": {},
   "source": [
    "#### Latitude vs. Temperature Plot"
   ]
  },
  {
   "cell_type": "code",
   "execution_count": 73,
   "metadata": {},
   "outputs": [
    {
     "data": {
      "image/png": "[encoded data removed]",
      "text/plain": [
       "<Figure size 432x288 with 1 Axes>"
      ]
     },
     "metadata": {},
     "output_type": "display_data"
    }
   ],
   "source": [
    "# Determining x and y axis\n",
    "x_axis_graph1 = complete_df[\"Lat\"]\n",
    "y_axis_graph1 = complete_df[\"Max Temp\"]\n",
    "\n",
    "# Creating Scatter plot\n",
    "plt.scatter(x_axis_graph1, y_axis_graph1, marker=\"o\", facecolors=\"aqua\", edgecolors=\"black\", alpha=1.00)\n",
    "\n",
    "# Formating graph\n",
    "plt.title(f\"City Latitude vs. Max Temperature {str(datetime.datetime.now().date())}\")\n",
    "plt.xlabel(\"Latitude\")\n",
    "plt.ylabel(\"Max Temperature (F)\")\n",
    "plt.grid()\n",
    "\n",
    "# savigng an image in the folder with excel file\n",
    "plt.savefig(\"../Resources/City_Latitude_vs_MaxTemp.png\")\n",
    "plt.show()"
   ]
  },
  {
   "cell_type": "markdown",
   "metadata": {},
   "source": [
    "#### Latitude vs. Humidity Plot"
   ]
  },
  {
   "cell_type": "code",
   "execution_count": 74,
   "metadata": {},
   "outputs": [
    {
     "data": {
      "image/png": "[encoded data removed]",
      "text/plain": [
       "<Figure size 432x288 with 1 Axes>"
      ]
     },
     "metadata": {},
     "output_type": "display_data"
    }
   ],
   "source": [
    "# Determining x and y axis\n",
    "x_axis_graph2 = complete_df[\"Lat\"]\n",
    "y_axis_graph2 = complete_df[\"Humidity\"]\n",
    "\n",
    "# Creating Scatter plot\n",
    "plt.scatter(x_axis_graph2, y_axis_graph2, marker=\"o\", facecolors=\"aqua\", edgecolors=\"black\", alpha=1.00)\n",
    "\n",
    "# Formating graph\n",
    "plt.title(f\"City Latitude vs. Humidity {str(datetime.datetime.now().date())}\")\n",
    "plt.xlabel(\"Latitude\")\n",
    "plt.ylabel(\"Humidity (%)\")\n",
    "plt.grid()\n",
    "\n",
    "# savigng an image in the folder with excel file\n",
    "plt.savefig(\"../Resources/City_Latitude_vs_Humidity.png\")\n",
    "plt.show()"
   ]
  },
  {
   "cell_type": "markdown",
   "metadata": {},
   "source": [
    "#### Latitude vs. Cloudiness Plot"
   ]
  },
  {
   "cell_type": "code",
   "execution_count": 75,
   "metadata": {},
   "outputs": [
    {
     "data": {
      "image/png": "[encoded data removed]",
      "text/plain": [
       "<Figure size 432x288 with 1 Axes>"
      ]
     },
     "metadata": {},
     "output_type": "display_data"
    }
   ],
   "source": [
    "# Determining x and y axis\n",
    "x_axis_graph3 = complete_df[\"Lat\"]\n",
    "y_axis_graph3 = complete_df[\"Cloudiness\"]\n",
    "\n",
    "# Creating Scatter plot\n",
    "plt.scatter(x_axis_graph3, y_axis_graph3, marker=\"o\", facecolors=\"aqua\", edgecolors=\"black\", alpha=1.00)\n",
    "\n",
    "# Formating graph\n",
    "plt.title(f\"City Latitude vs. Cloudiness {str(datetime.datetime.now().date())}\")\n",
    "plt.xlabel(\"Latitude\")\n",
    "plt.ylabel(\"Cloudiness (%)\")\n",
    "plt.grid()\n",
    "\n",
    "# savigng an image in the folder with excel file\n",
    "plt.savefig(\"../Resources/City_Latitude_vs_Cloudiness.png\")\n",
    "plt.show()"
   ]
  },
  {
   "cell_type": "markdown",
   "metadata": {},
   "source": [
    "#### Latitude vs. Wind Speed Plot"
   ]
  },
  {
   "cell_type": "code",
   "execution_count": 76,
   "metadata": {},
   "outputs": [
    {
     "data": {
      "image/png": "[encoded data removed]",
      "text/plain": [
       "<Figure size 432x288 with 1 Axes>"
      ]
     },
     "metadata": {},
     "output_type": "display_data"
    }
   ],
   "source": [
    "# Determining x and y axis\n",
    "x_axis_graph4 = complete_df[\"Lat\"]\n",
    "y_axis_graph4 = complete_df[\"Wind Speed\"]\n",
    "\n",
    "# Creating Scatter plot\n",
    "plt.scatter(x_axis_graph4, y_axis_graph4, marker=\"o\", facecolors=\"aqua\", edgecolors=\"black\", alpha=1.00)\n",
    "\n",
    "# Formating graph\n",
    "plt.title(f\"City Latitude vs. Wind Speed {str(datetime.datetime.now().date())}\")\n",
    "plt.xlabel(\"Latitude\")\n",
    "plt.ylabel(\"Wind Speed (mph)\")\n",
    "plt.grid()\n",
    "\n",
    "# savigng an image in the folder with excel file\n",
    "plt.savefig(\"../Resources/City_Latitude_vs_WindSpeed.png\")\n",
    "plt.show()"
   ]
  },
  {
   "cell_type": "code",
   "execution_count": null,
   "metadata": {},
   "outputs": [],
   "source": []
  }
 ],
 "metadata": {
  "anaconda-cloud": {},
  "kernelspec": {
   "display_name": "Python 3",
   "language": "python",
   "name": "python3"
  },
  "language_info": {
   "codemirror_mode": {
    "name": "ipython",
    "version": 3
   },
   "file_extension": ".py",
   "mimetype": "text/x-python",
   "name": "python",
   "nbconvert_exporter": "python",
   "pygments_lexer": "ipython3",
   "version": "3.6.5"
  }
 },
 "nbformat": 4,
 "nbformat_minor": 2
}
